{
 "cells": [
  {
   "cell_type": "code",
   "execution_count": null,
   "metadata": {},
   "outputs": [],
   "source": [
    "import pyvista as pv\n",
    "sphere = pv.Sphere()\n",
    "sphere.plot(jupyter_backend='static')"
   ]
  },
  {
   "cell_type": "code",
   "execution_count": 1,
   "metadata": {},
   "outputs": [
    {
     "ename": "",
     "evalue": "",
     "output_type": "error",
     "traceback": [
      "\u001b[1;31mThe Kernel crashed while executing code in the current cell or a previous cell. \n",
      "\u001b[1;31mPlease review the code in the cell(s) to identify a possible cause of the failure. \n",
      "\u001b[1;31mClick <a href='https://aka.ms/vscodeJupyterKernelCrash'>here</a> for more info. \n",
      "\u001b[1;31mView Jupyter <a href='command:jupyter.viewOutput'>log</a> for further details."
     ]
    }
   ],
   "source": [
    "import pyvista as pv\n",
    "sphere = pv.Sphere()\n",
    "sphere.plot(jupyter_backend='static')"
   ]
  },
  {
   "cell_type": "code",
   "execution_count": 6,
   "metadata": {},
   "outputs": [],
   "source": [
    "src_path='/home/lij/PycharmProjects/PointCloudSeg/ConvPoint/'\n"
   ]
  },
  {
   "cell_type": "code",
   "execution_count": 7,
   "metadata": {},
   "outputs": [
    {
     "name": "stdout",
     "output_type": "stream",
     "text": [
      "ply\n",
      "format binary_little_endian 1.0\n",
      "element vertex 2591\n",
      "property float x\n",
      "property float y\n",
      "property float z\n",
      "property uchar red\n",
      "property uchar green\n",
      "property uchar blue\n",
      "end_header\n",
      "Number of points: 2591\n",
      "Point coordinates:\n",
      "(2591, 3)\n",
      "(2591, 3)\n"
     ]
    }
   ],
   "source": [
    "import plyfile\n",
    "import numpy as np\n",
    "\n",
    "\n",
    "path = src_path+'test.ply'\n",
    "# v = read_obj(path)\n",
    "plydata = plyfile.PlyData.read(path)\n",
    "print(plydata)\n",
    "# Get the number of points in the point cloud\n",
    "num_points = plydata['vertex'].count\n",
    "print(\"Number of points:\", num_points)\n",
    "\n",
    "# Get the point coordinates\n",
    "points = plydata['vertex'].data['x'], plydata['vertex'].data['y'], plydata['vertex'].data['z']\n",
    "colors = plydata['vertex'].data['red'], plydata['vertex'].data['green'], plydata['vertex'].data['blue']\n",
    "# Convert the coordinates to a NumPy array\n",
    "points = np.array([points[0], points[1], points[2]]).T\n",
    "colors = np.array(colors).T\n",
    "\n",
    "# Print the point cloud information\n",
    "print(\"Point coordinates:\")\n",
    "print(points.shape)\n",
    "print(colors.shape)"
   ]
  },
  {
   "cell_type": "code",
   "execution_count": null,
   "metadata": {},
   "outputs": [],
   "source": []
  },
  {
   "cell_type": "code",
   "execution_count": null,
   "metadata": {},
   "outputs": [],
   "source": [
    "!pip list"
   ]
  }
 ],
 "metadata": {
  "kernelspec": {
   "display_name": "lj_py",
   "language": "python",
   "name": "python3"
  },
  "language_info": {
   "codemirror_mode": {
    "name": "ipython",
    "version": 3
   },
   "file_extension": ".py",
   "mimetype": "text/x-python",
   "name": "python",
   "nbconvert_exporter": "python",
   "pygments_lexer": "ipython3",
   "version": "3.9.12"
  }
 },
 "nbformat": 4,
 "nbformat_minor": 2
}
